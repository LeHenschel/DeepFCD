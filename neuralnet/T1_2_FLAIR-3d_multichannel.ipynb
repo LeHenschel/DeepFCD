{
 "cells": [
  {
   "cell_type": "code",
   "execution_count": null,
   "metadata": {},
   "outputs": [],
   "source": [
    "from __future__ import absolute_import, division, print_function, unicode_literals\n",
    "\n",
    "import tensorflow as tf\n",
    "\n",
    "import os\n",
    "import time\n",
    "import re as regex\n",
    "\n",
    "from matplotlib import pyplot as plt\n",
    "from IPython import display"
   ]
  },
  {
   "cell_type": "code",
   "execution_count": null,
   "metadata": {},
   "outputs": [],
   "source": [
    "FLAIRPATH = '/home/bdavid/Deep_Learning/playground/fake_flair_2d/png_axial/FLAIR/'\n",
    "T1PATH ='/home/bdavid/Deep_Learning/playground/fake_flair_2d/png_axial/T1/'\n",
    "FLAIR_PADDING_PATH='/home/bdavid/Deep_Learning/playground/fake_flair_2d/png_axial/FLAIR_paddings/'\n",
    "T1_PADDING_PATH='/home/bdavid/Deep_Learning/playground/fake_flair_2d/png_axial/T1_paddings/'"
   ]
  },
  {
   "cell_type": "code",
   "execution_count": null,
   "metadata": {},
   "outputs": [],
   "source": [
    "BUFFER_SIZE = 400\n",
    "BATCH_SIZE = 1\n",
    "IMG_WIDTH = 256\n",
    "IMG_HEIGHT = 256\n",
    "INPUT_CHANNELS = 7\n",
    "if INPUT_CHANNELS % 2 == 0:\n",
    "    print('Even no. of slices not supported, setting INPUT_CHANNELS to ',INPUT_CHANNELS+1)\n",
    "    INPUT_CHANNELS += 1"
   ]
  },
  {
   "cell_type": "code",
   "execution_count": null,
   "metadata": {},
   "outputs": [],
   "source": [
    "def file_exists(image_file,slicenum,slice_of_interest):\n",
    "    return tf.io.gfile.exists(tf.strings.regex_replace(image_file,slicenum,str(slice_of_interest.numpy()).zfill(3)+'.').numpy())\n",
    "\n",
    "def load_padding(padding_path,subjid,first):\n",
    "    if first:\n",
    "        return tf.io.read_file(padding_path+subjid+'_first_mean_padding.png')\n",
    "    else:\n",
    "        return tf.io.read_file(padding_path+subjid+'_last_mean_padding.png')\n",
    "    \n",
    "def load_curr_slice(image_file,slicenum,curr_slice):\n",
    "    return tf.io.read_file(tf.strings.regex_replace(image_file,slicenum,str(curr_slice.numpy()).zfill(3)+'.'))\n",
    "\n",
    "def load(image_file):\n",
    "\n",
    "  real_image_file=tf.strings.regex_replace(image_file,T1PATH,FLAIRPATH)\n",
    "  #create 3D image stack for multi-channel input with mean padding\n",
    "  #input_imagelist,real_imagelist = tf.zeros((IMG_WIDTH, IMG_HEIGHT, INPUT_CHANNELS), tf.float32), tf.zeros((IMG_WIDTH, IMG_HEIGHT, INPUT_CHANNELS), tf.float32)    \n",
    "  input_imagelist = tf.zeros((IMG_WIDTH, IMG_HEIGHT, INPUT_CHANNELS), tf.float32)\n",
    "  slicenum=\"([0-9]{3})\\.\"\n",
    "  subjid=tf.strings.split(tf.strings.split(image_file,sep='/')[-1],sep='_')[0]\n",
    "  mid_slice=int(tf.strings.substr(image_file, -7, 3))\n",
    "  halfstack = lo_idx = hi_idx = INPUT_CHANNELS//2\n",
    "  min_slice=mid_slice-lo_idx\n",
    "  max_slice=mid_slice+hi_idx\n",
    "  num_curr_slice=0\n",
    "\n",
    "\n",
    "  while not tf.py_function(file_exists,[image_file, slicenum, min_slice],Tout=tf.bool):\n",
    "    lo_idx -= 1\n",
    "    min_slice +=1\n",
    "\n",
    "  while not tf.py_function(file_exists,[image_file, slicenum, max_slice],Tout=tf.bool):\n",
    "    hi_idx -=1\n",
    "    max_slice -=1\n",
    "\n",
    "  if halfstack-lo_idx != 0:\n",
    "    \n",
    "    #input_image = tf.io.read_file(T1_PADDING_PATH+subjid+'_first_mean_padding.png')\n",
    "    input_image = tf.py_function(load_padding, [T1_PADDING_PATH,subjid,True],Tout=tf.string)\n",
    "    input_image = tf.image.decode_png(input_image,channels=1)\n",
    "    input_image = tf.image.convert_image_dtype(input_image, tf.float32) \n",
    "    \n",
    "#     real_image = tf.py_function(load_padding, [FLAIR_PADDING_PATH,subjid,True],Tout=tf.string)\n",
    "#     real_image = tf.image.decode_png(real_image,channels=1)\n",
    "#     real_image = tf.image.convert_image_dtype(real_image, tf.float32) \n",
    "    \n",
    "    for i in range(halfstack-lo_idx): \n",
    "      input_imagelist=tf.concat([input_imagelist[...,:num_curr_slice], \n",
    "                                 input_image, tf.zeros((IMG_WIDTH, IMG_HEIGHT, INPUT_CHANNELS-num_curr_slice-1), \n",
    "                                                       tf.float32)], axis=2)\n",
    "#       real_imagelist=tf.concat([real_imagelist[...,:num_curr_slice], \n",
    "#                                 real_image, tf.zeros((IMG_WIDTH, IMG_HEIGHT, INPUT_CHANNELS-num_curr_slice-1), \n",
    "#                                                      tf.float32)], axis=2)\n",
    "      num_curr_slice += 1\n",
    "    \n",
    "      input_imagelist.set_shape([IMG_WIDTH, IMG_HEIGHT, INPUT_CHANNELS])\n",
    "#       real_imagelist.set_shape([IMG_WIDTH, IMG_HEIGHT, INPUT_CHANNELS])\n",
    "    \n",
    "  for curr_slice in range(min_slice, max_slice+1):\n",
    "    \n",
    "    #input_image = tf.io.read_file(tf.strings.regex_replace(image_file,slicenum,str(curr_slice).zfill(3)+'.'))\n",
    "    input_image = tf.py_function(load_curr_slice, \n",
    "                                 [image_file,slicenum,curr_slice], \n",
    "                                 Tout=tf.string)\n",
    "    input_image = tf.image.decode_png(input_image,channels=1)\n",
    "    input_image = tf.image.convert_image_dtype(input_image, tf.float32) \n",
    "    \n",
    "    #real_image = tf.io.read_file(tf.strings.regex_replace(real_image_file,slicenum,str(curr_slice).zfill(3)+'.'))\n",
    "#     real_image = tf.py_function(load_curr_slice, \n",
    "#                                 [real_image_file,slicenum,curr_slice], \n",
    "#                                 Tout=tf.string)\n",
    "#     real_image = tf.image.decode_png(real_image,channels=1)\n",
    "#     real_image = tf.image.convert_image_dtype(real_image, tf.float32) \n",
    "    \n",
    "    \n",
    "    input_imagelist=tf.concat([input_imagelist[...,:num_curr_slice], \n",
    "                               input_image, tf.zeros((IMG_WIDTH, IMG_HEIGHT, INPUT_CHANNELS-num_curr_slice-1), \n",
    "                                                     tf.float32)], axis=2)\n",
    "#     real_imagelist=tf.concat([real_imagelist[...,:num_curr_slice], \n",
    "#                               real_image, tf.zeros((IMG_WIDTH, IMG_HEIGHT, INPUT_CHANNELS-num_curr_slice-1), \n",
    "#                                                    tf.float32)], axis=2)\n",
    "    num_curr_slice += 1\n",
    "    \n",
    "    input_imagelist.set_shape([IMG_WIDTH, IMG_HEIGHT, INPUT_CHANNELS])\n",
    "#     real_imagelist.set_shape([IMG_WIDTH, IMG_HEIGHT, INPUT_CHANNELS])    \n",
    "                                      \n",
    "  if halfstack-hi_idx != 0:\n",
    "    \n",
    "    input_image = tf.py_function(load_padding, [T1_PADDING_PATH,subjid,False],Tout=tf.string)\n",
    "    input_image = tf.image.decode_png(input_image,channels=1)\n",
    "    input_image = tf.image.convert_image_dtype(input_image, tf.float32) \n",
    "\n",
    "    \n",
    "#     real_image = tf.py_function(load_padding, [FLAIR_PADDING_PATH,subjid,False],Tout=tf.string)\n",
    "#     real_image = tf.image.decode_png(real_image,channels=1)\n",
    "#     real_image = tf.image.convert_image_dtype(real_image, tf.float32) \n",
    "    \n",
    "    for i in range(halfstack-hi_idx): \n",
    "      input_imagelist=tf.concat([input_imagelist[...,:num_curr_slice], \n",
    "                                 input_image, tf.zeros((IMG_WIDTH, IMG_HEIGHT, INPUT_CHANNELS-num_curr_slice-1), \n",
    "                                                       tf.float32)], axis=2)\n",
    "#       real_imagelist=tf.concat([real_imagelist[...,:num_curr_slice], \n",
    "#                                 real_image, tf.zeros((IMG_WIDTH, IMG_HEIGHT, INPUT_CHANNELS-num_curr_slice-1), \n",
    "#                                                      tf.float32)], axis=2)\n",
    "      num_curr_slice += 1\n",
    "      input_imagelist.set_shape([IMG_WIDTH, IMG_HEIGHT, INPUT_CHANNELS])\n",
    "#       real_imagelist.set_shape([IMG_WIDTH, IMG_HEIGHT, INPUT_CHANNELS])\n",
    "      \n",
    "  real_image = tf.io.read_file(real_image_file)\n",
    "  real_image = tf.image.decode_png(real_image, channels=1)\n",
    "  real_image = tf.image.convert_image_dtype(real_image, tf.float32)\n",
    "  \n",
    "#   return input_imagelist, real_imagelist\n",
    "  return input_imagelist, real_image"
   ]
  },
  {
   "cell_type": "code",
   "execution_count": null,
   "metadata": {},
   "outputs": [],
   "source": [
    "inp, re = load(T1PATH+'train/12038_slice080.png')\n",
    "# casting to int for matplotlib to show the image\n",
    "plt.figure()\n",
    "plt.imshow(inp[:,:,INPUT_CHANNELS//2]/255.0,cmap='gray')\n",
    "plt.figure()\n",
    "plt.imshow(re[:,:,0]/255.0,cmap='gray')\n"
   ]
  },
  {
   "cell_type": "code",
   "execution_count": null,
   "metadata": {},
   "outputs": [],
   "source": [
    "def resize(input_image, real_image, height, width):\n",
    "  input_image = tf.image.resize(input_image, [height, width],\n",
    "                                method=tf.image.ResizeMethod.NEAREST_NEIGHBOR)\n",
    "  real_image = tf.image.resize(real_image, [height, width],\n",
    "                               method=tf.image.ResizeMethod.NEAREST_NEIGHBOR)\n",
    "\n",
    "  return input_image, real_image"
   ]
  },
  {
   "cell_type": "code",
   "execution_count": null,
   "metadata": {},
   "outputs": [],
   "source": [
    "rs_inp,rs_re = resize(inp,re,286,286)\n",
    "inp_list=[rs_inp,rs_re]\n",
    "\n",
    "for i in range(2):\n",
    "  plt.figure(figsize=(20,15))\n",
    "  for j in range(INPUT_CHANNELS):\n",
    "    plt.subplot(1,INPUT_CHANNELS,j+1)\n",
    "    if inp_list[i].shape[2] != 1:\n",
    "        plt.imshow(inp_list[i][:,:,j]/255.0,cmap='gray')\n",
    "    else:\n",
    "        plt.imshow(inp_list[i][:,:,0]/255.0,cmap='gray')\n",
    "    plt.axis('off')"
   ]
  },
  {
   "cell_type": "code",
   "execution_count": null,
   "metadata": {},
   "outputs": [],
   "source": [
    "def random_crop(input_image, real_image):\n",
    "  real_image_dummy_stack = tf.concat([real_image, tf.zeros((real_image.shape[0], real_image.shape[1], INPUT_CHANNELS-1), tf.float32)], axis=2)\n",
    "  stacked_image = tf.stack([input_image, real_image_dummy_stack], axis=0)\n",
    "  cropped_image = tf.image.random_crop(\n",
    "      stacked_image, size=[2, IMG_HEIGHT, IMG_WIDTH, INPUT_CHANNELS])\n",
    "\n",
    "  return cropped_image[0], cropped_image[1][...,0,tf.newaxis]\n"
   ]
  },
  {
   "cell_type": "code",
   "execution_count": null,
   "metadata": {},
   "outputs": [],
   "source": [
    "rc_inp,rc_re = random_crop(rs_inp,rs_re)\n",
    "inp_list=[rc_inp,rc_re]\n",
    "\n",
    "for i in range(2):\n",
    "  plt.figure(figsize=(20,15))\n",
    "  for j in range(INPUT_CHANNELS):\n",
    "    plt.subplot(1,INPUT_CHANNELS,j+1)\n",
    "    if inp_list[i].shape[2] != 1:\n",
    "        plt.imshow(inp_list[i][:,:,j]/255.0,cmap='gray')\n",
    "    else:\n",
    "        plt.imshow(inp_list[i][:,:,0]/255.0,cmap='gray')\n",
    "    plt.axis('off')"
   ]
  },
  {
   "cell_type": "code",
   "execution_count": null,
   "metadata": {},
   "outputs": [],
   "source": [
    "# normalizing the images to [-1, 1]\n",
    "\n",
    "def normalize(input_image, real_image):\n",
    "  input_image = (input_image / 127.5) - 1\n",
    "  real_image = (real_image / 127.5) - 1\n",
    "\n",
    "  return input_image, real_image"
   ]
  },
  {
   "cell_type": "code",
   "execution_count": null,
   "metadata": {},
   "outputs": [],
   "source": [
    "@tf.function()\n",
    "def random_jitter(input_image, real_image):\n",
    "  # resizing to 286 x 286 x 3\n",
    "  input_image, real_image = resize(input_image, real_image, 286, 286)\n",
    "\n",
    "  # randomly cropping to 256 x 256 x 3\n",
    "  input_image, real_image = random_crop(input_image, real_image)\n",
    "\n",
    "  if tf.random.uniform(()) > 0.5:\n",
    "    # random mirroring\n",
    "    input_image = tf.image.flip_left_right(input_image)\n",
    "    real_image = tf.image.flip_left_right(real_image)\n",
    "\n",
    "  return input_image, real_image"
   ]
  },
  {
   "cell_type": "code",
   "execution_count": null,
   "metadata": {},
   "outputs": [],
   "source": [
    "for i in range(4):\n",
    "  rj_inp, rj_re = random_jitter(inp, re)\n",
    "  inp_list=[rj_inp,rj_re]\n",
    "  for i in range(2):\n",
    "    plt.figure(figsize=(20,15))\n",
    "    for j in range(INPUT_CHANNELS):\n",
    "      plt.subplot(1,INPUT_CHANNELS,j+1)\n",
    "      if inp_list[i].shape[2] != 1:\n",
    "          plt.imshow(inp_list[i][:,:,j]/255.0,cmap='gray')\n",
    "      else:\n",
    "          plt.imshow(inp_list[i][:,:,0]/255.0,cmap='gray')\n",
    "      plt.axis('off')\n"
   ]
  },
  {
   "cell_type": "code",
   "execution_count": null,
   "metadata": {},
   "outputs": [],
   "source": [
    "def load_image_train(image_file):\n",
    "  input_image, real_image = load(image_file)\n",
    "  input_image, real_image = random_jitter(input_image, real_image)\n",
    "  input_image, real_image = normalize(input_image, real_image)\n",
    "\n",
    "  return input_image, real_image"
   ]
  },
  {
   "cell_type": "code",
   "execution_count": null,
   "metadata": {},
   "outputs": [],
   "source": [
    "def load_image_test(image_file):\n",
    "  input_image, real_image = load(image_file)\n",
    "  input_image, real_image = resize(input_image, real_image,\n",
    "                                   IMG_HEIGHT, IMG_WIDTH)\n",
    "  input_image, real_image = normalize(input_image, real_image)\n",
    "\n",
    "  return input_image, real_image"
   ]
  },
  {
   "cell_type": "code",
   "execution_count": null,
   "metadata": {},
   "outputs": [],
   "source": [
    "test1,test2=load_image_train(T1PATH+'train/12038_slice080.png')\n",
    "inp_list=[test1,test2]\n",
    "\n",
    "for i in range(2):\n",
    "  plt.figure(figsize=(20,15))\n",
    "  for j in range(INPUT_CHANNELS):\n",
    "    plt.subplot(1,INPUT_CHANNELS,j+1)\n",
    "    if inp_list[i].shape[2] != 1:\n",
    "        plt.imshow(inp_list[i][:,:,j]/255.0,cmap='gray')\n",
    "    else:\n",
    "        plt.imshow(inp_list[i][:,:,0]/255.0,cmap='gray')\n",
    "    plt.axis('off')"
   ]
  },
  {
   "cell_type": "code",
   "execution_count": null,
   "metadata": {},
   "outputs": [],
   "source": [
    "train_dataset = tf.data.Dataset.list_files(T1PATH+'train/*.png')\n",
    "train_dataset = train_dataset.map(load_image_train,\n",
    "                                  num_parallel_calls=tf.data.experimental.AUTOTUNE)\n",
    "train_dataset = train_dataset.shuffle(BUFFER_SIZE)\n",
    "train_dataset = train_dataset.batch(BATCH_SIZE)\n"
   ]
  },
  {
   "cell_type": "code",
   "execution_count": null,
   "metadata": {},
   "outputs": [],
   "source": [
    "test_dataset = tf.data.Dataset.list_files(T1PATH+'test/*.png')\n",
    "test_dataset = test_dataset.map(load_image_test)\n",
    "test_dataset = test_dataset.batch(BATCH_SIZE)\n"
   ]
  },
  {
   "cell_type": "code",
   "execution_count": null,
   "metadata": {},
   "outputs": [],
   "source": [
    "OUTPUT_CHANNELS = 1"
   ]
  },
  {
   "cell_type": "code",
   "execution_count": null,
   "metadata": {},
   "outputs": [],
   "source": [
    "def downsample(filters, size, apply_batchnorm=True):\n",
    "  initializer = tf.random_normal_initializer(0., 0.02)\n",
    "\n",
    "  result = tf.keras.Sequential()\n",
    "  result.add(\n",
    "      tf.keras.layers.Conv2D(filters, size, strides=2, padding='same',\n",
    "                             kernel_initializer=initializer, use_bias=False))\n",
    "\n",
    "  if apply_batchnorm:\n",
    "    result.add(tf.keras.layers.BatchNormalization())\n",
    "\n",
    "  result.add(tf.keras.layers.LeakyReLU())\n",
    "\n",
    "  return result"
   ]
  },
  {
   "cell_type": "code",
   "execution_count": null,
   "metadata": {},
   "outputs": [],
   "source": [
    "down_model = downsample(3, 4)\n",
    "down_result = down_model(tf.expand_dims(test1, 0))\n",
    "print (down_result.shape)"
   ]
  },
  {
   "cell_type": "code",
   "execution_count": null,
   "metadata": {},
   "outputs": [],
   "source": [
    "def upsample(filters, size, apply_dropout=False):\n",
    "  initializer = tf.random_normal_initializer(0., 0.02)\n",
    "\n",
    "  result = tf.keras.Sequential()\n",
    "  result.add(\n",
    "    tf.keras.layers.Conv2DTranspose(filters, size, strides=2,\n",
    "                                    padding='same',\n",
    "                                    kernel_initializer=initializer,\n",
    "                                    use_bias=False))\n",
    "\n",
    "  result.add(tf.keras.layers.BatchNormalization())\n",
    "\n",
    "  if apply_dropout:\n",
    "      result.add(tf.keras.layers.Dropout(0.5))\n",
    "\n",
    "  result.add(tf.keras.layers.ReLU())\n",
    "\n",
    "  return result"
   ]
  },
  {
   "cell_type": "code",
   "execution_count": null,
   "metadata": {},
   "outputs": [],
   "source": [
    "up_model = upsample(3, 4)\n",
    "up_result = up_model(down_result)\n",
    "print (up_result.shape)"
   ]
  },
  {
   "cell_type": "code",
   "execution_count": null,
   "metadata": {},
   "outputs": [],
   "source": [
    "def Generator():\n",
    "  inputs = tf.keras.layers.Input(shape=[256,256,INPUT_CHANNELS])\n",
    "\n",
    "  down_stack = [\n",
    "    downsample(64, 4, apply_batchnorm=False), # (bs, 128, 128, 64)\n",
    "    downsample(128, 4), # (bs, 64, 64, 128)\n",
    "    downsample(256, 4), # (bs, 32, 32, 256)\n",
    "    downsample(512, 4), # (bs, 16, 16, 512)\n",
    "    downsample(512, 4), # (bs, 8, 8, 512)\n",
    "    downsample(512, 4), # (bs, 4, 4, 512)\n",
    "    downsample(512, 4), # (bs, 2, 2, 512)\n",
    "    downsample(512, 4), # (bs, 1, 1, 512)\n",
    "  ]\n",
    "\n",
    "  up_stack = [\n",
    "    upsample(512, 4, apply_dropout=True), # (bs, 2, 2, 1024)\n",
    "    upsample(512, 4, apply_dropout=True), # (bs, 4, 4, 1024)\n",
    "    upsample(512, 4, apply_dropout=True), # (bs, 8, 8, 1024)\n",
    "    upsample(512, 4), # (bs, 16, 16, 1024)\n",
    "    upsample(256, 4), # (bs, 32, 32, 512)\n",
    "    upsample(128, 4), # (bs, 64, 64, 256)\n",
    "    upsample(64, 4), # (bs, 128, 128, 128)\n",
    "  ]\n",
    "\n",
    "  initializer = tf.random_normal_initializer(0., 0.02)\n",
    "  last = tf.keras.layers.Conv2DTranspose(OUTPUT_CHANNELS, 4,\n",
    "                                         strides=2,\n",
    "                                         padding='same',\n",
    "                                         kernel_initializer=initializer,\n",
    "                                         activation='tanh') # (bs, 256, 256, 3)\n",
    "\n",
    "  x = inputs\n",
    "\n",
    "  # Downsampling through the model\n",
    "  skips = []\n",
    "  for down in down_stack:\n",
    "    x = down(x)\n",
    "    skips.append(x)\n",
    "\n",
    "  skips = reversed(skips[:-1])\n",
    "\n",
    "  # Upsampling and establishing the skip connections\n",
    "  for up, skip in zip(up_stack, skips):\n",
    "    x = up(x)\n",
    "    x = tf.keras.layers.Concatenate()([x, skip])\n",
    "\n",
    "  x = last(x)\n",
    "\n",
    "  return tf.keras.Model(inputs=inputs, outputs=x)\n"
   ]
  },
  {
   "cell_type": "code",
   "execution_count": null,
   "metadata": {},
   "outputs": [],
   "source": [
    "generator = Generator()\n",
    "tf.keras.utils.plot_model(generator, to_file='generator.png', show_shapes=True, dpi=64)\n"
   ]
  },
  {
   "cell_type": "code",
   "execution_count": null,
   "metadata": {},
   "outputs": [],
   "source": [
    "gen_output = generator(test1[tf.newaxis,...], training=False)\n",
    "plt.imshow(gen_output[0,...][:,:,0],cmap='gray')\n"
   ]
  },
  {
   "cell_type": "code",
   "execution_count": null,
   "metadata": {},
   "outputs": [],
   "source": [
    "LAMBDA = 100\n"
   ]
  },
  {
   "cell_type": "code",
   "execution_count": null,
   "metadata": {},
   "outputs": [],
   "source": [
    "def generator_loss(disc_generated_output, gen_output, target):\n",
    "  gan_loss = loss_object(tf.ones_like(disc_generated_output), disc_generated_output)\n",
    "\n",
    "  # mean absolute error\n",
    "  l1_loss = tf.reduce_mean(tf.abs(target - gen_output))\n",
    "  # mean squared error\n",
    "  #l2_loss = tf.reduce_mean(tf.math.squared_difference(target,gen_output))\n",
    "\n",
    "  total_gen_loss = gan_loss + (LAMBDA * l1_loss)\n",
    "  #total_gen_loss = gan_loss + (LAMBDA * l2_loss)\n",
    "\n",
    "  return total_gen_loss, gan_loss, l1_loss"
   ]
  },
  {
   "cell_type": "code",
   "execution_count": null,
   "metadata": {},
   "outputs": [],
   "source": [
    "def Discriminator():\n",
    "  initializer = tf.random_normal_initializer(0., 0.02)\n",
    "\n",
    "  inp = tf.keras.layers.Input(shape=[256, 256, 1], name='input_image')\n",
    "  tar = tf.keras.layers.Input(shape=[256, 256, 1], name='target_image')\n",
    "\n",
    "  x = tf.keras.layers.concatenate([inp, tar]) # (bs, 256, 256, channels*2)\n",
    "\n",
    "  down1 = downsample(64, 4, False)(x) # (bs, 128, 128, 64)\n",
    "  down2 = downsample(128, 4)(down1) # (bs, 64, 64, 128)\n",
    "  down3 = downsample(256, 4)(down2) # (bs, 32, 32, 256)\n",
    "\n",
    "  zero_pad1 = tf.keras.layers.ZeroPadding2D()(down3) # (bs, 34, 34, 256)\n",
    "  conv = tf.keras.layers.Conv2D(512, 4, strides=1,\n",
    "                                kernel_initializer=initializer,\n",
    "                                use_bias=False)(zero_pad1) # (bs, 31, 31, 512)\n",
    "\n",
    "  batchnorm1 = tf.keras.layers.BatchNormalization()(conv)\n",
    "\n",
    "  leaky_relu = tf.keras.layers.LeakyReLU()(batchnorm1)\n",
    "\n",
    "  zero_pad2 = tf.keras.layers.ZeroPadding2D()(leaky_relu) # (bs, 33, 33, 512)\n",
    "\n",
    "  last = tf.keras.layers.Conv2D(1, 4, strides=1,\n",
    "                                kernel_initializer=initializer)(zero_pad2) # (bs, 30, 30, 1)\n",
    "\n",
    "  return tf.keras.Model(inputs=[inp, tar], outputs=last)\n"
   ]
  },
  {
   "cell_type": "code",
   "execution_count": null,
   "metadata": {},
   "outputs": [],
   "source": [
    "discriminator = Discriminator()\n",
    "tf.keras.utils.plot_model(discriminator, to_file='discriminator.png', show_shapes=True, dpi=64)\n"
   ]
  },
  {
   "cell_type": "code",
   "execution_count": null,
   "metadata": {},
   "outputs": [],
   "source": [
    "inp1d=inp[...,INPUT_CHANNELS//2]\n",
    "disc_out = discriminator([inp1d[tf.newaxis,...,tf.newaxis], gen_output], training=False)\n",
    "plt.imshow(disc_out[0,...,-1], cmap='RdBu_r')\n",
    "plt.colorbar()\n"
   ]
  },
  {
   "cell_type": "code",
   "execution_count": null,
   "metadata": {},
   "outputs": [],
   "source": [
    "loss_object = tf.keras.losses.BinaryCrossentropy(from_logits=True)\n"
   ]
  },
  {
   "cell_type": "code",
   "execution_count": null,
   "metadata": {},
   "outputs": [],
   "source": [
    "def discriminator_loss(disc_real_output, disc_generated_output):\n",
    "  real_loss = loss_object(tf.ones_like(disc_real_output), disc_real_output)\n",
    "\n",
    "  generated_loss = loss_object(tf.zeros_like(disc_generated_output), disc_generated_output)\n",
    "\n",
    "  total_disc_loss = real_loss + generated_loss\n",
    "\n",
    "  return total_disc_loss"
   ]
  },
  {
   "cell_type": "code",
   "execution_count": null,
   "metadata": {},
   "outputs": [],
   "source": [
    "generator_optimizer = tf.keras.optimizers.Adam(2e-5, beta_1=0.5)\n",
    "discriminator_optimizer = tf.keras.optimizers.Adam(2e-5, beta_1=0.5)\n",
    "#previous learning rate 2e-4"
   ]
  },
  {
   "cell_type": "code",
   "execution_count": null,
   "metadata": {},
   "outputs": [],
   "source": [
    "checkpoint_dir = './training_checkpoints'\n",
    "checkpoint_prefix = os.path.join(checkpoint_dir, \"ckpt\")\n",
    "checkpoint = tf.train.Checkpoint(generator_optimizer=generator_optimizer,\n",
    "                                 discriminator_optimizer=discriminator_optimizer,\n",
    "                                 generator=generator,\n",
    "                                 discriminator=discriminator)\n"
   ]
  },
  {
   "cell_type": "code",
   "execution_count": null,
   "metadata": {},
   "outputs": [],
   "source": [
    "def generate_images(model, test_input, tar):\n",
    "  prediction = model(test_input, training=True)\n",
    "  plt.figure(figsize=(15,15))\n",
    "  display_list = [test_input[0,...,INPUT_CHANNELS//2,tf.newaxis], tar[0], prediction[0]]\n",
    "  title = ['Input Image', 'Ground Truth', 'Predicted Image']\n",
    "\n",
    "  for i in range(3):\n",
    "    plt.subplot(1, 3, i+1)\n",
    "    plt.title(title[i])\n",
    "    # getting the pixel values between [0, 1] to plot it.\n",
    "    plt.imshow(display_list[i][:,:,0] * 0.5 + 0.5, cmap='gray')\n",
    "    plt.axis('off')\n",
    "  plt.show()\n"
   ]
  },
  {
   "cell_type": "code",
   "execution_count": null,
   "metadata": {},
   "outputs": [],
   "source": [
    "for example_input, example_target in test_dataset.take(1):\n",
    "  generate_images(generator, example_input, example_target)\n"
   ]
  },
  {
   "cell_type": "code",
   "execution_count": null,
   "metadata": {},
   "outputs": [],
   "source": [
    "EPOCHS = 300\n"
   ]
  },
  {
   "cell_type": "code",
   "execution_count": null,
   "metadata": {},
   "outputs": [],
   "source": [
    "import datetime\n",
    "log_dir=\"logs/\"\n",
    "\n",
    "summary_writer = tf.summary.create_file_writer(\n",
    "  log_dir + \"fit/\" + datetime.datetime.now().strftime(\"%Y%m%d-%H%M%S\"))\n"
   ]
  },
  {
   "cell_type": "code",
   "execution_count": null,
   "metadata": {},
   "outputs": [],
   "source": [
    "@tf.function\n",
    "def train_step(input_image, target, epoch):\n",
    "  with tf.GradientTape() as gen_tape, tf.GradientTape() as disc_tape:\n",
    "    gen_output = generator(input_image, training=True)\n",
    "\n",
    "    disc_real_output = discriminator([input_image[...,INPUT_CHANNELS//2,tf.newaxis], target],\n",
    "                                     training=True)\n",
    "    disc_generated_output = discriminator([input_image[...,INPUT_CHANNELS//2,tf.newaxis], gen_output], \n",
    "                                          training=True)\n",
    "\n",
    "    gen_total_loss, gen_gan_loss, gen_l1_loss = generator_loss(disc_generated_output, gen_output, target)\n",
    "    #gen_total_loss, gen_gan_loss, gen_l2_loss = generator_loss(disc_generated_output, gen_output, target)\n",
    "    disc_loss = discriminator_loss(disc_real_output, disc_generated_output)\n",
    "\n",
    "  generator_gradients = gen_tape.gradient(gen_total_loss,\n",
    "                                          generator.trainable_variables)\n",
    "  discriminator_gradients = disc_tape.gradient(disc_loss,\n",
    "                                               discriminator.trainable_variables)\n",
    "\n",
    "  generator_optimizer.apply_gradients(zip(generator_gradients,\n",
    "                                          generator.trainable_variables))\n",
    "  discriminator_optimizer.apply_gradients(zip(discriminator_gradients,\n",
    "                                              discriminator.trainable_variables))\n",
    "\n",
    "  with summary_writer.as_default():\n",
    "    tf.summary.scalar('gen_total_loss', gen_total_loss, step=epoch)\n",
    "    tf.summary.scalar('gen_gan_loss', gen_gan_loss, step=epoch)\n",
    "    tf.summary.scalar('gen_l1_loss', gen_l1_loss, step=epoch)\n",
    "    tf.summary.scalar('disc_loss', disc_loss, step=epoch)\n"
   ]
  },
  {
   "cell_type": "code",
   "execution_count": null,
   "metadata": {},
   "outputs": [],
   "source": [
    "def fit(train_ds, epochs, test_ds):\n",
    "  for epoch in range(epochs):\n",
    "    start = time.time()\n",
    "\n",
    "    \n",
    "\n",
    "    for example_input, example_target in test_ds.take(1):\n",
    "      generate_images(generator, example_input, example_target)\n",
    "    print(\"Epoch: \", epoch)\n",
    "\n",
    "    # Train\n",
    "    for n, (input_image, target) in train_ds.enumerate():\n",
    "      print('.', end='')\n",
    "      if (n+1) % 100 == 0:\n",
    "        display.clear_output(wait=True)\n",
    "        print()\n",
    "        for example_input, example_target in test_ds.take(1):\n",
    "          generate_images(generator, example_input, example_target)\n",
    "      train_step(input_image, target, epoch)\n",
    "    print()\n",
    "\n",
    "    # saving (checkpoint) the model every 5 epochs\n",
    "    if (epoch + 1) % 5 == 0:\n",
    "      checkpoint.save(file_prefix = checkpoint_prefix)\n",
    "\n",
    "    print ('Time taken for epoch {} is {} sec\\n'.format(epoch + 1,\n",
    "                                                        time.time()-start))\n",
    "  checkpoint.save(file_prefix = checkpoint_prefix)\n"
   ]
  },
  {
   "cell_type": "code",
   "execution_count": null,
   "metadata": {
    "scrolled": false
   },
   "outputs": [],
   "source": [
    "%load_ext tensorboard\n",
    "%tensorboard --logdir {log_dir}\n"
   ]
  },
  {
   "cell_type": "code",
   "execution_count": null,
   "metadata": {},
   "outputs": [],
   "source": [
    "fit(train_dataset, EPOCHS, test_dataset)\n"
   ]
  },
  {
   "cell_type": "code",
   "execution_count": null,
   "metadata": {},
   "outputs": [],
   "source": [
    "# restoring the latest checkpoint in checkpoint_dir\n",
    "checkpoint.restore(tf.train.latest_checkpoint(checkpoint_dir))\n",
    "\n",
    "# Run the trained model on a few examples from the test dataset\n",
    "for inp, tar in test_dataset.take(5):\n",
    "  generate_images(generator, inp, tar)"
   ]
  },
  {
   "cell_type": "code",
   "execution_count": null,
   "metadata": {},
   "outputs": [],
   "source": []
  }
 ],
 "metadata": {
  "kernelspec": {
   "display_name": "Python 3",
   "language": "python",
   "name": "python3"
  },
  "language_info": {
   "codemirror_mode": {
    "name": "ipython",
    "version": 3
   },
   "file_extension": ".py",
   "mimetype": "text/x-python",
   "name": "python",
   "nbconvert_exporter": "python",
   "pygments_lexer": "ipython3",
   "version": "3.7.4"
  }
 },
 "nbformat": 4,
 "nbformat_minor": 2
}
